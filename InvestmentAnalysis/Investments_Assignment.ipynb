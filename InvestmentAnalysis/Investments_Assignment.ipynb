{
  "nbformat": 4,
  "nbformat_minor": 0,
  "metadata": {
    "kernelspec": {
      "display_name": "Python 3",
      "language": "python",
      "name": "python3"
    },
    "language_info": {
      "codemirror_mode": {
        "name": "ipython",
        "version": 3
      },
      "file_extension": ".py",
      "mimetype": "text/x-python",
      "name": "python",
      "nbconvert_exporter": "python",
      "pygments_lexer": "ipython3",
      "version": "3.6.4"
    },
    "colab": {
      "name": "Investments_Assignment.ipynb",
      "provenance": [],
      "include_colab_link": true
    }
  },
  "cells": [
    {
      "cell_type": "markdown",
      "metadata": {
        "id": "view-in-github",
        "colab_type": "text"
      },
      "source": [
        "<a href=\"https://colab.research.google.com/github/rkmishracs/Machine-Learning-Projects/blob/main/InvestmentAnalysis/Investments_Assignment.ipynb\" target=\"_parent\"><img src=\"https://colab.research.google.com/assets/colab-badge.svg\" alt=\"Open In Colab\"/></a>"
      ]
    },
    {
      "cell_type": "markdown",
      "metadata": {
        "id": "eM5xvAxIHiHh"
      },
      "source": [
        "#Ram Krishn Mishra\n",
        "\n"
      ]
    },
    {
      "cell_type": "markdown",
      "metadata": {
        "id": "6gxGOdcIxR5G"
      },
      "source": [
        "# **importing Required Packages**"
      ]
    },
    {
      "cell_type": "code",
      "metadata": {
        "id": "UEhCFtlMKEPU"
      },
      "source": [
        "import numpy as np\n",
        "import pandas as pd\n",
        "import matplotlib.pyplot as plt\n",
        "import seaborn as sns\n",
        "# set seaborn theme if you prefer\n",
        "sns.set(style=\"white\")"
      ],
      "execution_count": null,
      "outputs": []
    },
    {
      "cell_type": "markdown",
      "metadata": {
        "id": "Bc6UOaoHBky8"
      },
      "source": [
        "# **Reading companies_df.txt, rounds2_df.csv and mapping.csv files**"
      ]
    },
    {
      "cell_type": "code",
      "metadata": {
        "id": "Q10kSx32KEPa"
      },
      "source": [
        "companies_df = pd.read_csv(\"/content/drive/My Drive/Upgrad/companies.txt\", sep=\"\\t\", encoding = \"unicode_escape\")\n",
        "rounds2_df = pd.read_csv(\"/content/drive/My Drive/Upgrad/rounds2.csv\",encoding='unicode_escape')\n",
        "mapping = pd.read_csv(\"/content/drive/My Drive/Upgrad/mapping.csv\", encoding = \"unicode_escape\")"
      ],
      "execution_count": null,
      "outputs": []
    },
    {
      "cell_type": "markdown",
      "metadata": {
        "id": "_KNQe5JkVnmG"
      },
      "source": [
        "# Converting column permalink to lowercase and count unique companies_df_df"
      ]
    },
    {
      "cell_type": "code",
      "metadata": {
        "id": "0jDKAeHAYFpw",
        "colab": {
          "base_uri": "https://localhost:8080/",
          "height": 34
        },
        "outputId": "4ea7ac9e-025c-4e66-9f7d-7f0ecc52f45f"
      },
      "source": [
        "companies_df[\"permalink\"] = list(map(lambda x: x.lower(), companies_df[\"permalink\"]))\n",
        "companies_df[\"permalink\"].nunique()"
      ],
      "execution_count": null,
      "outputs": [
        {
          "output_type": "execute_result",
          "data": {
            "text/plain": [
              "66368"
            ]
          },
          "metadata": {
            "tags": []
          },
          "execution_count": 175
        }
      ]
    },
    {
      "cell_type": "markdown",
      "metadata": {
        "id": "V2_sPlY3W4v-"
      },
      "source": [
        "# Converting column company_permalink to lowercase and count unique companies_df"
      ]
    },
    {
      "cell_type": "code",
      "metadata": {
        "id": "Gcyo6RcQKEPi",
        "colab": {
          "base_uri": "https://localhost:8080/",
          "height": 34
        },
        "outputId": "c6e177ee-2fbf-4f44-ad99-f3a41b598cb0"
      },
      "source": [
        "rounds2_df[\"company_permalink\"] = list(map(lambda x: x.lower(), rounds2_df[\"company_permalink\"]))\n",
        "rounds2_df[\"company_permalink\"].nunique()"
      ],
      "execution_count": null,
      "outputs": [
        {
          "output_type": "execute_result",
          "data": {
            "text/plain": [
              "66370"
            ]
          },
          "metadata": {
            "tags": []
          },
          "execution_count": 176
        }
      ]
    },
    {
      "cell_type": "markdown",
      "metadata": {
        "id": "RaSM3xiUKEPo"
      },
      "source": [
        "# Merging the data frames companies_df and round2 using inner join operation"
      ]
    },
    {
      "cell_type": "code",
      "metadata": {
        "id": "aajY4KRKKEPp"
      },
      "source": [
        "master_frame=pd.merge(rounds2_df,companies_df,how=\"inner\",left_on=\"company_permalink\",right_on=\"permalink\")"
      ],
      "execution_count": null,
      "outputs": []
    },
    {
      "cell_type": "code",
      "metadata": {
        "id": "h8-GjDf8KEPr",
        "colab": {
          "base_uri": "https://localhost:8080/",
          "height": 34
        },
        "outputId": "47e3b183-aa64-49bc-9c56-ee5150e6da51"
      },
      "source": [
        "master_frame.shape"
      ],
      "execution_count": null,
      "outputs": [
        {
          "output_type": "execute_result",
          "data": {
            "text/plain": [
              "(114942, 16)"
            ]
          },
          "metadata": {
            "tags": []
          },
          "execution_count": 178
        }
      ]
    },
    {
      "cell_type": "markdown",
      "metadata": {
        "id": "p-LE2QbdJw7m"
      },
      "source": [
        "#Cleaning and  Filling the Missing values"
      ]
    },
    {
      "cell_type": "code",
      "metadata": {
        "id": "5SgvmCtMKEPu",
        "colab": {
          "base_uri": "https://localhost:8080/",
          "height": 306
        },
        "outputId": "a804386b-d305-406e-f2ce-cc4b092f1224"
      },
      "source": [
        "# column wise missing value count\n",
        "master_frame.isnull().sum()"
      ],
      "execution_count": null,
      "outputs": [
        {
          "output_type": "execute_result",
          "data": {
            "text/plain": [
              "company_permalink              0\n",
              "funding_round_permalink        0\n",
              "funding_round_type             0\n",
              "funding_round_code         83803\n",
              "funded_at                      0\n",
              "raised_amount_usd          19984\n",
              "permalink                      0\n",
              "name                           1\n",
              "homepage_url                6132\n",
              "category_list               3407\n",
              "status                         0\n",
              "country_code                8671\n",
              "state_code                 10939\n",
              "region                     10160\n",
              "city                       10157\n",
              "founded_at                 20520\n",
              "dtype: int64"
            ]
          },
          "metadata": {
            "tags": []
          },
          "execution_count": 179
        }
      ]
    },
    {
      "cell_type": "code",
      "metadata": {
        "id": "aU4PMekVKEPw",
        "colab": {
          "base_uri": "https://localhost:8080/",
          "height": 306
        },
        "outputId": "867ac222-31e0-466c-8f09-e29db949c731"
      },
      "source": [
        "# Percentage of total number of null values as per column wise\n",
        "round(100*(master_frame.isnull().sum()/len(master_frame.index)), 2)"
      ],
      "execution_count": null,
      "outputs": [
        {
          "output_type": "execute_result",
          "data": {
            "text/plain": [
              "company_permalink           0.00\n",
              "funding_round_permalink     0.00\n",
              "funding_round_type          0.00\n",
              "funding_round_code         72.91\n",
              "funded_at                   0.00\n",
              "raised_amount_usd          17.39\n",
              "permalink                   0.00\n",
              "name                        0.00\n",
              "homepage_url                5.33\n",
              "category_list               2.96\n",
              "status                      0.00\n",
              "country_code                7.54\n",
              "state_code                  9.52\n",
              "region                      8.84\n",
              "city                        8.84\n",
              "founded_at                 17.85\n",
              "dtype: float64"
            ]
          },
          "metadata": {
            "tags": []
          },
          "execution_count": 180
        }
      ]
    },
    {
      "cell_type": "markdown",
      "metadata": {
        "id": "LIbFy9Ayazv9"
      },
      "source": [
        "# raised_amount_usd null values are 17.39% dropping it for further analysis"
      ]
    },
    {
      "cell_type": "code",
      "metadata": {
        "id": "j6Fv-4dMKEP0",
        "colab": {
          "base_uri": "https://localhost:8080/"
        },
        "outputId": "585b56fb-f70a-446b-eddd-2e4c360df30b"
      },
      "source": [
        "master_frame['raised_amount_usd'].isnull().sum()"
      ],
      "execution_count": null,
      "outputs": [
        {
          "output_type": "execute_result",
          "data": {
            "text/plain": [
              "19984"
            ]
          },
          "metadata": {
            "tags": []
          },
          "execution_count": 181
        }
      ]
    },
    {
      "cell_type": "code",
      "metadata": {
        "id": "Wfpa2XlHKEP2"
      },
      "source": [
        "master_frame=master_frame[~master_frame.raised_amount_usd.isnull()]"
      ],
      "execution_count": null,
      "outputs": []
    },
    {
      "cell_type": "code",
      "metadata": {
        "id": "gibtLaxLKEP4",
        "colab": {
          "base_uri": "https://localhost:8080/"
        },
        "outputId": "86a2b254-11dc-47e9-98fd-52f121d930ef"
      },
      "source": [
        "master_frame['raised_amount_usd'].isnull().sum()"
      ],
      "execution_count": null,
      "outputs": [
        {
          "output_type": "execute_result",
          "data": {
            "text/plain": [
              "0"
            ]
          },
          "metadata": {
            "tags": []
          },
          "execution_count": 183
        }
      ]
    },
    {
      "cell_type": "code",
      "metadata": {
        "id": "mcEE4mQOKEP7",
        "colab": {
          "base_uri": "https://localhost:8080/"
        },
        "outputId": "ea620ddd-8490-4511-a5e4-7afdcb06ebbc"
      },
      "source": [
        "master_frame.shape"
      ],
      "execution_count": null,
      "outputs": [
        {
          "output_type": "execute_result",
          "data": {
            "text/plain": [
              "(94958, 16)"
            ]
          },
          "metadata": {
            "tags": []
          },
          "execution_count": 184
        }
      ]
    },
    {
      "cell_type": "code",
      "metadata": {
        "id": "Tm_QKxFZKEP9",
        "colab": {
          "base_uri": "https://localhost:8080/"
        },
        "outputId": "d4aa7670-cfb9-4e9d-8f59-359e79baf7a1"
      },
      "source": [
        "round(100*(master_frame.isnull().sum()/len(master_frame.index)), 2)"
      ],
      "execution_count": null,
      "outputs": [
        {
          "output_type": "execute_result",
          "data": {
            "text/plain": [
              "company_permalink           0.00\n",
              "funding_round_permalink     0.00\n",
              "funding_round_type          0.00\n",
              "funding_round_code         70.34\n",
              "funded_at                   0.00\n",
              "raised_amount_usd           0.00\n",
              "permalink                   0.00\n",
              "name                        0.00\n",
              "homepage_url                4.56\n",
              "category_list               1.10\n",
              "status                      0.00\n",
              "country_code                6.16\n",
              "state_code                  8.01\n",
              "region                      7.42\n",
              "city                        7.42\n",
              "founded_at                 16.81\n",
              "dtype: float64"
            ]
          },
          "metadata": {
            "tags": []
          },
          "execution_count": 185
        }
      ]
    },
    {
      "cell_type": "markdown",
      "metadata": {
        "id": "yRd91S5QKEP_"
      },
      "source": [
        "# dropping those column which are not being use for this analysis and having more null values"
      ]
    },
    {
      "cell_type": "code",
      "metadata": {
        "id": "LkG9we0cKEQA"
      },
      "source": [
        "master_frame = master_frame.drop('funding_round_code', axis=1)\n",
        "master_frame = master_frame.drop('founded_at', axis=1)\n",
        "master_frame = master_frame.drop('homepage_url', axis=1)"
      ],
      "execution_count": null,
      "outputs": []
    },
    {
      "cell_type": "code",
      "metadata": {
        "id": "KZuTkBjwKEQG"
      },
      "source": [
        "master_frame=master_frame[~master_frame.country_code.isnull()]"
      ],
      "execution_count": null,
      "outputs": []
    },
    {
      "cell_type": "code",
      "metadata": {
        "id": "eHomWZREKEQI"
      },
      "source": [
        "master_frame=master_frame[~master_frame.category_list.isnull()]"
      ],
      "execution_count": null,
      "outputs": []
    },
    {
      "cell_type": "code",
      "metadata": {
        "id": "zK6Y5RBiKEQK",
        "colab": {
          "base_uri": "https://localhost:8080/"
        },
        "outputId": "127ae282-64c2-41c7-b77a-88fd180686f5"
      },
      "source": [
        "round(100*(master_frame.isnull().sum()/len(master_frame.index)), 2)"
      ],
      "execution_count": null,
      "outputs": [
        {
          "output_type": "execute_result",
          "data": {
            "text/plain": [
              "company_permalink          0.00\n",
              "funding_round_permalink    0.00\n",
              "funding_round_type         0.00\n",
              "funded_at                  0.00\n",
              "raised_amount_usd          0.00\n",
              "permalink                  0.00\n",
              "name                       0.00\n",
              "category_list              0.00\n",
              "status                     0.00\n",
              "country_code               0.00\n",
              "state_code                 1.96\n",
              "region                     1.34\n",
              "city                       1.33\n",
              "dtype: float64"
            ]
          },
          "metadata": {
            "tags": []
          },
          "execution_count": 189
        }
      ]
    },
    {
      "cell_type": "markdown",
      "metadata": {
        "id": "bNjGA9ZDKEQR"
      },
      "source": [
        "# Analysis Related to Funding \n",
        "\n",
        "1.   printing Unique investment type\n",
        "2.   Applying filter for selected column\n",
        "\n"
      ]
    },
    {
      "cell_type": "code",
      "metadata": {
        "id": "KicgVPHtKEQV",
        "colab": {
          "base_uri": "https://localhost:8080/"
        },
        "outputId": "39dbae24-5e81-4b80-9101-1b0da72b8bca"
      },
      "source": [
        "master_frame['funding_round_type'].unique()"
      ],
      "execution_count": null,
      "outputs": [
        {
          "output_type": "execute_result",
          "data": {
            "text/plain": [
              "array(['venture', 'seed', 'undisclosed', 'convertible_note',\n",
              "       'private_equity', 'debt_financing', 'angel', 'grant',\n",
              "       'equity_crowdfunding', 'post_ipo_equity', 'post_ipo_debt',\n",
              "       'product_crowdfunding', 'secondary_market',\n",
              "       'non_equity_assistance'], dtype=object)"
            ]
          },
          "metadata": {
            "tags": []
          },
          "execution_count": 190
        }
      ]
    },
    {
      "cell_type": "code",
      "metadata": {
        "id": "1CKFMYanKEQY"
      },
      "source": [
        "master_frame=master_frame[master_frame['funding_round_type'].isin(['seed','angel','venture','private_equity'])]"
      ],
      "execution_count": null,
      "outputs": []
    },
    {
      "cell_type": "code",
      "metadata": {
        "id": "SaV_wY4gKEQa",
        "colab": {
          "base_uri": "https://localhost:8080/"
        },
        "outputId": "6cb5548d-f4c4-4741-ac4c-8a4cfc2cd89d"
      },
      "source": [
        "# We can choose aggregate functions mean to get the average funding raised for each funding types\n",
        "master_by_fundtype = master_frame.groupby('funding_round_type')\n",
        "master_by_fundtype['raised_amount_usd'].mean().sort_values(ascending = False)"
      ],
      "execution_count": null,
      "outputs": [
        {
          "output_type": "execute_result",
          "data": {
            "text/plain": [
              "funding_round_type\n",
              "private_equity    7.393849e+07\n",
              "venture           1.172422e+07\n",
              "angel             9.715739e+05\n",
              "seed              7.477937e+05\n",
              "Name: raised_amount_usd, dtype: float64"
            ]
          },
          "metadata": {
            "tags": []
          },
          "execution_count": 192
        }
      ]
    },
    {
      "cell_type": "markdown",
      "metadata": {
        "id": "WYSaJGZ1eT1Q"
      },
      "source": [
        "Venture type is the best investing sector and fullfilling  the condition between 5m to 15 m"
      ]
    },
    {
      "cell_type": "markdown",
      "metadata": {
        "id": "mSLMwu-qex9B"
      },
      "source": [
        "# Analysis Related to Country\n",
        "\n",
        "\n"
      ]
    },
    {
      "cell_type": "code",
      "metadata": {
        "id": "fT7qGydgKEQj"
      },
      "source": [
        "venture_df = master_frame[master_frame[\"funding_round_type\"]==\"venture\"]"
      ],
      "execution_count": null,
      "outputs": []
    },
    {
      "cell_type": "code",
      "metadata": {
        "id": "Y0Nu9xcPKEQl",
        "colab": {
          "base_uri": "https://localhost:8080/"
        },
        "outputId": "e1856e40-35e9-44f9-8ad7-c5b4bb481b1d"
      },
      "source": [
        "venture_df.shape"
      ],
      "execution_count": null,
      "outputs": [
        {
          "output_type": "execute_result",
          "data": {
            "text/plain": [
              "(47809, 13)"
            ]
          },
          "metadata": {
            "tags": []
          },
          "execution_count": 194
        }
      ]
    },
    {
      "cell_type": "markdown",
      "metadata": {
        "id": "ZVl1roQFf62h"
      },
      "source": [
        "# Finding top 9 countries which have received the highest total funding"
      ]
    },
    {
      "cell_type": "code",
      "metadata": {
        "id": "H6RwO-F2KEQo",
        "colab": {
          "base_uri": "https://localhost:8080/"
        },
        "outputId": "fda856ac-2de5-4b90-bfde-b634d10ffe73"
      },
      "source": [
        "venture_by_country = venture_df.groupby('country_code')\n",
        "venture_by_country['raised_amount_usd'].sum().sort_values(ascending=False).head(9)"
      ],
      "execution_count": null,
      "outputs": [
        {
          "output_type": "execute_result",
          "data": {
            "text/plain": [
              "country_code\n",
              "USA    4.200680e+11\n",
              "CHN    3.933892e+10\n",
              "GBR    2.007281e+10\n",
              "IND    1.426151e+10\n",
              "CAN    9.482218e+09\n",
              "FRA    7.226851e+09\n",
              "ISR    6.854350e+09\n",
              "DEU    6.306922e+09\n",
              "JPN    3.167647e+09\n",
              "Name: raised_amount_usd, dtype: float64"
            ]
          },
          "metadata": {
            "tags": []
          },
          "execution_count": 195
        }
      ]
    },
    {
      "cell_type": "markdown",
      "metadata": {
        "id": "Z4r0t76FKEQq"
      },
      "source": [
        "# Filtering the data with these top 9 countries only."
      ]
    },
    {
      "cell_type": "code",
      "metadata": {
        "id": "nbkQ-GAtKEQr"
      },
      "source": [
        "top9 = venture_df[venture_df['country_code'].isin([\"USA\",\"CHN\",\"GBR\",\"IND\",\"CAN\",\"FRA\",\"ISR\",\"DEU\",\"JPN\"])]"
      ],
      "execution_count": null,
      "outputs": []
    },
    {
      "cell_type": "markdown",
      "metadata": {
        "id": "r-T1ygJIKEQs"
      },
      "source": [
        "# Removing/Cleaning the rows with no category "
      ]
    },
    {
      "cell_type": "code",
      "metadata": {
        "id": "Ysb4vJBYKEQt"
      },
      "source": [
        "top9=top9[~top9.category_list.isnull()]"
      ],
      "execution_count": null,
      "outputs": []
    },
    {
      "cell_type": "markdown",
      "metadata": {
        "id": "eKnZonsBghSY"
      },
      "source": [
        "### For some companies_df, the category list is a list of multiple sub-sectors separated by a pipe (vertical bar |). For example, one of the companies_df’ category_list is Application Platforms|Real Time|Social Network Media.<br>\n",
        "## <br>\n",
        " "
      ]
    },
    {
      "cell_type": "code",
      "metadata": {
        "id": "EQpSac_5KEQw"
      },
      "source": [
        "top9['primary_sector'] =top9['category_list'].astype(str).apply(lambda x: x.split('|')[0])"
      ],
      "execution_count": null,
      "outputs": []
    },
    {
      "cell_type": "code",
      "metadata": {
        "id": "_kaVfB-VKEQy",
        "colab": {
          "base_uri": "https://localhost:8080/"
        },
        "outputId": "e7af3365-73a5-407c-d65c-671fb9f336ee"
      },
      "source": [
        "top9.shape"
      ],
      "execution_count": null,
      "outputs": [
        {
          "output_type": "execute_result",
          "data": {
            "text/plain": [
              "(44118, 14)"
            ]
          },
          "metadata": {
            "tags": []
          },
          "execution_count": 199
        }
      ]
    },
    {
      "cell_type": "code",
      "metadata": {
        "id": "UoCXna-OKEQ0",
        "colab": {
          "base_uri": "https://localhost:8080/"
        },
        "outputId": "c97efa30-4d71-495c-ab25-8bd93080cd6b"
      },
      "source": [
        "top9.head()"
      ],
      "execution_count": null,
      "outputs": [
        {
          "output_type": "execute_result",
          "data": {
            "text/html": [
              "<div>\n",
              "<style scoped>\n",
              "    .dataframe tbody tr th:only-of-type {\n",
              "        vertical-align: middle;\n",
              "    }\n",
              "\n",
              "    .dataframe tbody tr th {\n",
              "        vertical-align: top;\n",
              "    }\n",
              "\n",
              "    .dataframe thead th {\n",
              "        text-align: right;\n",
              "    }\n",
              "</style>\n",
              "<table border=\"1\" class=\"dataframe\">\n",
              "  <thead>\n",
              "    <tr style=\"text-align: right;\">\n",
              "      <th></th>\n",
              "      <th>company_permalink</th>\n",
              "      <th>funding_round_permalink</th>\n",
              "      <th>funding_round_type</th>\n",
              "      <th>funded_at</th>\n",
              "      <th>raised_amount_usd</th>\n",
              "      <th>permalink</th>\n",
              "      <th>name</th>\n",
              "      <th>category_list</th>\n",
              "      <th>status</th>\n",
              "      <th>country_code</th>\n",
              "      <th>state_code</th>\n",
              "      <th>region</th>\n",
              "      <th>city</th>\n",
              "      <th>primary_sector</th>\n",
              "    </tr>\n",
              "  </thead>\n",
              "  <tbody>\n",
              "    <tr>\n",
              "      <th>0</th>\n",
              "      <td>/organization/-fame</td>\n",
              "      <td>/funding-round/9a01d05418af9f794eebff7ace91f638</td>\n",
              "      <td>venture</td>\n",
              "      <td>5/1/2015</td>\n",
              "      <td>10000000.0</td>\n",
              "      <td>/organization/-fame</td>\n",
              "      <td>#fame</td>\n",
              "      <td>Media</td>\n",
              "      <td>operating</td>\n",
              "      <td>IND</td>\n",
              "      <td>16</td>\n",
              "      <td>Mumbai</td>\n",
              "      <td>Mumbai</td>\n",
              "      <td>Media</td>\n",
              "    </tr>\n",
              "    <tr>\n",
              "      <th>4</th>\n",
              "      <td>/organization/0-6-com</td>\n",
              "      <td>/funding-round/5727accaeaa57461bd22a9bdd945382d</td>\n",
              "      <td>venture</td>\n",
              "      <td>19/3/2008</td>\n",
              "      <td>2000000.0</td>\n",
              "      <td>/organization/0-6-com</td>\n",
              "      <td>0-6.com</td>\n",
              "      <td>Curated Web</td>\n",
              "      <td>operating</td>\n",
              "      <td>CHN</td>\n",
              "      <td>22</td>\n",
              "      <td>Beijing</td>\n",
              "      <td>Beijing</td>\n",
              "      <td>Curated Web</td>\n",
              "    </tr>\n",
              "    <tr>\n",
              "      <th>8</th>\n",
              "      <td>/organization/0ndine-biomedical-inc</td>\n",
              "      <td>/funding-round/954b9499724b946ad8c396a57a5f3b72</td>\n",
              "      <td>venture</td>\n",
              "      <td>21/12/2009</td>\n",
              "      <td>719491.0</td>\n",
              "      <td>/organization/0ndine-biomedical-inc</td>\n",
              "      <td>Ondine Biomedical Inc.</td>\n",
              "      <td>Biotechnology</td>\n",
              "      <td>operating</td>\n",
              "      <td>CAN</td>\n",
              "      <td>BC</td>\n",
              "      <td>Vancouver</td>\n",
              "      <td>Vancouver</td>\n",
              "      <td>Biotechnology</td>\n",
              "    </tr>\n",
              "    <tr>\n",
              "      <th>10</th>\n",
              "      <td>/organization/0xdata</td>\n",
              "      <td>/funding-round/3bb2ee4a2d89251a10aaa735b1180e44</td>\n",
              "      <td>venture</td>\n",
              "      <td>9/11/2015</td>\n",
              "      <td>20000000.0</td>\n",
              "      <td>/organization/0xdata</td>\n",
              "      <td>H2O.ai</td>\n",
              "      <td>Analytics</td>\n",
              "      <td>operating</td>\n",
              "      <td>USA</td>\n",
              "      <td>CA</td>\n",
              "      <td>SF Bay Area</td>\n",
              "      <td>Mountain View</td>\n",
              "      <td>Analytics</td>\n",
              "    </tr>\n",
              "    <tr>\n",
              "      <th>11</th>\n",
              "      <td>/organization/0xdata</td>\n",
              "      <td>/funding-round/ae2a174c06517c2394aed45006322a7e</td>\n",
              "      <td>venture</td>\n",
              "      <td>3/1/2013</td>\n",
              "      <td>1700000.0</td>\n",
              "      <td>/organization/0xdata</td>\n",
              "      <td>H2O.ai</td>\n",
              "      <td>Analytics</td>\n",
              "      <td>operating</td>\n",
              "      <td>USA</td>\n",
              "      <td>CA</td>\n",
              "      <td>SF Bay Area</td>\n",
              "      <td>Mountain View</td>\n",
              "      <td>Analytics</td>\n",
              "    </tr>\n",
              "  </tbody>\n",
              "</table>\n",
              "</div>"
            ],
            "text/plain": [
              "                      company_permalink  ... primary_sector\n",
              "0                   /organization/-fame  ...          Media\n",
              "4                 /organization/0-6-com  ...    Curated Web\n",
              "8   /organization/0ndine-biomedical-inc  ...  Biotechnology\n",
              "10                 /organization/0xdata  ...      Analytics\n",
              "11                 /organization/0xdata  ...      Analytics\n",
              "\n",
              "[5 rows x 14 columns]"
            ]
          },
          "metadata": {
            "tags": []
          },
          "execution_count": 200
        }
      ]
    },
    {
      "cell_type": "markdown",
      "metadata": {
        "id": "-H3NtRQJKEQ2"
      },
      "source": [
        "# Sector wise Analysis"
      ]
    },
    {
      "cell_type": "markdown",
      "metadata": {
        "id": "QIs6mpRBKEQ2"
      },
      "source": [
        "For further analysis and mapping, removing the null rows from the mapping dataframe."
      ]
    },
    {
      "cell_type": "code",
      "metadata": {
        "id": "WIToV4gjKEQ3",
        "colab": {
          "base_uri": "https://localhost:8080/"
        },
        "outputId": "12fa04e0-b65a-4e52-896f-a12d3fd7087d"
      },
      "source": [
        "mapping=mapping[~mapping.category_list.isnull()]\n",
        "mapping.head()"
      ],
      "execution_count": null,
      "outputs": [
        {
          "output_type": "execute_result",
          "data": {
            "text/html": [
              "<div>\n",
              "<style scoped>\n",
              "    .dataframe tbody tr th:only-of-type {\n",
              "        vertical-align: middle;\n",
              "    }\n",
              "\n",
              "    .dataframe tbody tr th {\n",
              "        vertical-align: top;\n",
              "    }\n",
              "\n",
              "    .dataframe thead th {\n",
              "        text-align: right;\n",
              "    }\n",
              "</style>\n",
              "<table border=\"1\" class=\"dataframe\">\n",
              "  <thead>\n",
              "    <tr style=\"text-align: right;\">\n",
              "      <th></th>\n",
              "      <th>category_list</th>\n",
              "      <th>Automotive &amp; Sports</th>\n",
              "      <th>Blanks</th>\n",
              "      <th>Cleantech / Semiconductors</th>\n",
              "      <th>Entertainment</th>\n",
              "      <th>Health</th>\n",
              "      <th>Manufacturing</th>\n",
              "      <th>News, Search and Messaging</th>\n",
              "      <th>Others</th>\n",
              "      <th>Social, Finance, Analytics, Advertising</th>\n",
              "    </tr>\n",
              "  </thead>\n",
              "  <tbody>\n",
              "    <tr>\n",
              "      <th>1</th>\n",
              "      <td>3D</td>\n",
              "      <td>0</td>\n",
              "      <td>0</td>\n",
              "      <td>0</td>\n",
              "      <td>0</td>\n",
              "      <td>0</td>\n",
              "      <td>1</td>\n",
              "      <td>0</td>\n",
              "      <td>0</td>\n",
              "      <td>0</td>\n",
              "    </tr>\n",
              "    <tr>\n",
              "      <th>2</th>\n",
              "      <td>3D Printing</td>\n",
              "      <td>0</td>\n",
              "      <td>0</td>\n",
              "      <td>0</td>\n",
              "      <td>0</td>\n",
              "      <td>0</td>\n",
              "      <td>1</td>\n",
              "      <td>0</td>\n",
              "      <td>0</td>\n",
              "      <td>0</td>\n",
              "    </tr>\n",
              "    <tr>\n",
              "      <th>3</th>\n",
              "      <td>3D Technology</td>\n",
              "      <td>0</td>\n",
              "      <td>0</td>\n",
              "      <td>0</td>\n",
              "      <td>0</td>\n",
              "      <td>0</td>\n",
              "      <td>1</td>\n",
              "      <td>0</td>\n",
              "      <td>0</td>\n",
              "      <td>0</td>\n",
              "    </tr>\n",
              "    <tr>\n",
              "      <th>4</th>\n",
              "      <td>Accounting</td>\n",
              "      <td>0</td>\n",
              "      <td>0</td>\n",
              "      <td>0</td>\n",
              "      <td>0</td>\n",
              "      <td>0</td>\n",
              "      <td>0</td>\n",
              "      <td>0</td>\n",
              "      <td>0</td>\n",
              "      <td>1</td>\n",
              "    </tr>\n",
              "    <tr>\n",
              "      <th>5</th>\n",
              "      <td>Active Lifestyle</td>\n",
              "      <td>0</td>\n",
              "      <td>0</td>\n",
              "      <td>0</td>\n",
              "      <td>0</td>\n",
              "      <td>1</td>\n",
              "      <td>0</td>\n",
              "      <td>0</td>\n",
              "      <td>0</td>\n",
              "      <td>0</td>\n",
              "    </tr>\n",
              "  </tbody>\n",
              "</table>\n",
              "</div>"
            ],
            "text/plain": [
              "      category_list  ...  Social, Finance, Analytics, Advertising\n",
              "1                3D  ...                                        0\n",
              "2       3D Printing  ...                                        0\n",
              "3     3D Technology  ...                                        0\n",
              "4        Accounting  ...                                        1\n",
              "5  Active Lifestyle  ...                                        0\n",
              "\n",
              "[5 rows x 10 columns]"
            ]
          },
          "metadata": {
            "tags": []
          },
          "execution_count": 201
        }
      ]
    },
    {
      "cell_type": "markdown",
      "metadata": {
        "id": "3lL2RTWIKEQ5"
      },
      "source": [
        "# User Define Function to correct the category_list column of the mapping file."
      ]
    },
    {
      "cell_type": "code",
      "metadata": {
        "id": "TgMAceSwKEQ5"
      },
      "source": [
        "def catmap(cat):\n",
        "    if '0' in cat:\n",
        "        if cat.startswith(\"0\"):\n",
        "            return cat[:cat.find('0')]+'Na'+cat[cat.find('0')+1:]\n",
        "        elif cat.endswith(\"0\"):\n",
        "            return cat\n",
        "        else:\n",
        "            return cat[:cat.find('0')]+'na'+cat[cat.find('0')+1:]\n",
        "    else:\n",
        "        return cat"
      ],
      "execution_count": null,
      "outputs": []
    },
    {
      "cell_type": "code",
      "metadata": {
        "id": "URhariUJKEQ7"
      },
      "source": [
        "# calling the custom function to correct the category_list column in the mapping.\n",
        "mapping['category_list']=list(map(catmap,mapping['category_list']))"
      ],
      "execution_count": null,
      "outputs": []
    },
    {
      "cell_type": "markdown",
      "metadata": {
        "id": "ptmLG6YgKEQ9"
      },
      "source": [
        "###Mapping the category_list in the top9 dataframe to the main_sector in the mapping file. Before merging these two dataframe, creating a new column main_sector in mapping dataframe to get the main sector name of each category."
      ]
    },
    {
      "cell_type": "code",
      "metadata": {
        "id": "eFeHh3ycKEQ9",
        "colab": {
          "base_uri": "https://localhost:8080/"
        },
        "outputId": "30996de3-971d-4122-805c-2140c127ff4f"
      },
      "source": [
        "m=pd.melt(mapping, id_vars=['category_list'], var_name=['main_sector'])\n",
        "m=m[m.value==1]\n",
        "m=m.drop('value',axis=1)\n",
        "m.shape\n"
      ],
      "execution_count": null,
      "outputs": [
        {
          "output_type": "execute_result",
          "data": {
            "text/plain": [
              "(687, 2)"
            ]
          },
          "metadata": {
            "tags": []
          },
          "execution_count": 204
        }
      ]
    },
    {
      "cell_type": "code",
      "metadata": {
        "id": "eqUQYo-nKEQ_"
      },
      "source": [
        "top9=pd.merge(top9,m,how=\"left\",left_on=\"primary_sector\",right_on=\"category_list\")"
      ],
      "execution_count": null,
      "outputs": []
    },
    {
      "cell_type": "code",
      "metadata": {
        "id": "pXLCgPgNKERB"
      },
      "source": [
        "top9=top9.drop('category_list_y',axis=1)"
      ],
      "execution_count": null,
      "outputs": []
    },
    {
      "cell_type": "code",
      "metadata": {
        "id": "LXeHyOrvKERE",
        "colab": {
          "base_uri": "https://localhost:8080/"
        },
        "outputId": "4a15e8c3-be5f-4372-936d-2efa6b25db70"
      },
      "source": [
        "top9.head()"
      ],
      "execution_count": null,
      "outputs": [
        {
          "output_type": "execute_result",
          "data": {
            "text/html": [
              "<div>\n",
              "<style scoped>\n",
              "    .dataframe tbody tr th:only-of-type {\n",
              "        vertical-align: middle;\n",
              "    }\n",
              "\n",
              "    .dataframe tbody tr th {\n",
              "        vertical-align: top;\n",
              "    }\n",
              "\n",
              "    .dataframe thead th {\n",
              "        text-align: right;\n",
              "    }\n",
              "</style>\n",
              "<table border=\"1\" class=\"dataframe\">\n",
              "  <thead>\n",
              "    <tr style=\"text-align: right;\">\n",
              "      <th></th>\n",
              "      <th>company_permalink</th>\n",
              "      <th>funding_round_permalink</th>\n",
              "      <th>funding_round_type</th>\n",
              "      <th>funded_at</th>\n",
              "      <th>raised_amount_usd</th>\n",
              "      <th>permalink</th>\n",
              "      <th>name</th>\n",
              "      <th>category_list_x</th>\n",
              "      <th>status</th>\n",
              "      <th>country_code</th>\n",
              "      <th>state_code</th>\n",
              "      <th>region</th>\n",
              "      <th>city</th>\n",
              "      <th>primary_sector</th>\n",
              "      <th>main_sector</th>\n",
              "    </tr>\n",
              "  </thead>\n",
              "  <tbody>\n",
              "    <tr>\n",
              "      <th>0</th>\n",
              "      <td>/organization/-fame</td>\n",
              "      <td>/funding-round/9a01d05418af9f794eebff7ace91f638</td>\n",
              "      <td>venture</td>\n",
              "      <td>5/1/2015</td>\n",
              "      <td>10000000.0</td>\n",
              "      <td>/organization/-fame</td>\n",
              "      <td>#fame</td>\n",
              "      <td>Media</td>\n",
              "      <td>operating</td>\n",
              "      <td>IND</td>\n",
              "      <td>16</td>\n",
              "      <td>Mumbai</td>\n",
              "      <td>Mumbai</td>\n",
              "      <td>Media</td>\n",
              "      <td>Entertainment</td>\n",
              "    </tr>\n",
              "    <tr>\n",
              "      <th>1</th>\n",
              "      <td>/organization/0-6-com</td>\n",
              "      <td>/funding-round/5727accaeaa57461bd22a9bdd945382d</td>\n",
              "      <td>venture</td>\n",
              "      <td>19/3/2008</td>\n",
              "      <td>2000000.0</td>\n",
              "      <td>/organization/0-6-com</td>\n",
              "      <td>0-6.com</td>\n",
              "      <td>Curated Web</td>\n",
              "      <td>operating</td>\n",
              "      <td>CHN</td>\n",
              "      <td>22</td>\n",
              "      <td>Beijing</td>\n",
              "      <td>Beijing</td>\n",
              "      <td>Curated Web</td>\n",
              "      <td>News, Search and Messaging</td>\n",
              "    </tr>\n",
              "    <tr>\n",
              "      <th>2</th>\n",
              "      <td>/organization/0ndine-biomedical-inc</td>\n",
              "      <td>/funding-round/954b9499724b946ad8c396a57a5f3b72</td>\n",
              "      <td>venture</td>\n",
              "      <td>21/12/2009</td>\n",
              "      <td>719491.0</td>\n",
              "      <td>/organization/0ndine-biomedical-inc</td>\n",
              "      <td>Ondine Biomedical Inc.</td>\n",
              "      <td>Biotechnology</td>\n",
              "      <td>operating</td>\n",
              "      <td>CAN</td>\n",
              "      <td>BC</td>\n",
              "      <td>Vancouver</td>\n",
              "      <td>Vancouver</td>\n",
              "      <td>Biotechnology</td>\n",
              "      <td>Cleantech / Semiconductors</td>\n",
              "    </tr>\n",
              "    <tr>\n",
              "      <th>3</th>\n",
              "      <td>/organization/0xdata</td>\n",
              "      <td>/funding-round/3bb2ee4a2d89251a10aaa735b1180e44</td>\n",
              "      <td>venture</td>\n",
              "      <td>9/11/2015</td>\n",
              "      <td>20000000.0</td>\n",
              "      <td>/organization/0xdata</td>\n",
              "      <td>H2O.ai</td>\n",
              "      <td>Analytics</td>\n",
              "      <td>operating</td>\n",
              "      <td>USA</td>\n",
              "      <td>CA</td>\n",
              "      <td>SF Bay Area</td>\n",
              "      <td>Mountain View</td>\n",
              "      <td>Analytics</td>\n",
              "      <td>Social, Finance, Analytics, Advertising</td>\n",
              "    </tr>\n",
              "    <tr>\n",
              "      <th>4</th>\n",
              "      <td>/organization/0xdata</td>\n",
              "      <td>/funding-round/ae2a174c06517c2394aed45006322a7e</td>\n",
              "      <td>venture</td>\n",
              "      <td>3/1/2013</td>\n",
              "      <td>1700000.0</td>\n",
              "      <td>/organization/0xdata</td>\n",
              "      <td>H2O.ai</td>\n",
              "      <td>Analytics</td>\n",
              "      <td>operating</td>\n",
              "      <td>USA</td>\n",
              "      <td>CA</td>\n",
              "      <td>SF Bay Area</td>\n",
              "      <td>Mountain View</td>\n",
              "      <td>Analytics</td>\n",
              "      <td>Social, Finance, Analytics, Advertising</td>\n",
              "    </tr>\n",
              "  </tbody>\n",
              "</table>\n",
              "</div>"
            ],
            "text/plain": [
              "                     company_permalink  ...                              main_sector\n",
              "0                  /organization/-fame  ...                            Entertainment\n",
              "1                /organization/0-6-com  ...               News, Search and Messaging\n",
              "2  /organization/0ndine-biomedical-inc  ...               Cleantech / Semiconductors\n",
              "3                 /organization/0xdata  ...  Social, Finance, Analytics, Advertising\n",
              "4                 /organization/0xdata  ...  Social, Finance, Analytics, Advertising\n",
              "\n",
              "[5 rows x 15 columns]"
            ]
          },
          "metadata": {
            "tags": []
          },
          "execution_count": 207
        }
      ]
    },
    {
      "cell_type": "code",
      "metadata": {
        "id": "_ky3lEsuKERI",
        "colab": {
          "base_uri": "https://localhost:8080/"
        },
        "outputId": "0c5832bb-5f77-46c0-ee2a-475e833a3d71"
      },
      "source": [
        "top9['main_sector'].head()"
      ],
      "execution_count": null,
      "outputs": [
        {
          "output_type": "execute_result",
          "data": {
            "text/plain": [
              "0                              Entertainment\n",
              "1                 News, Search and Messaging\n",
              "2                 Cleantech / Semiconductors\n",
              "3    Social, Finance, Analytics, Advertising\n",
              "4    Social, Finance, Analytics, Advertising\n",
              "Name: main_sector, dtype: object"
            ]
          },
          "metadata": {
            "tags": []
          },
          "execution_count": 208
        }
      ]
    },
    {
      "cell_type": "markdown",
      "metadata": {
        "id": "lV1L6fVcKERL"
      },
      "source": [
        "Checking for null in the main_sector column of the merged data frame."
      ]
    },
    {
      "cell_type": "code",
      "metadata": {
        "id": "zIwvfj1fKERM",
        "colab": {
          "base_uri": "https://localhost:8080/"
        },
        "outputId": "f6057478-18c0-491b-df8a-037b3f42af77"
      },
      "source": [
        "len(top9[top9['main_sector'].isnull()])"
      ],
      "execution_count": null,
      "outputs": [
        {
          "output_type": "execute_result",
          "data": {
            "text/plain": [
              "12"
            ]
          },
          "metadata": {
            "tags": []
          },
          "execution_count": 209
        }
      ]
    },
    {
      "cell_type": "markdown",
      "metadata": {
        "id": "SfjxboRfKERO"
      },
      "source": [
        "There are only 12 rows with missing main_sector values. Hence, removing such rows."
      ]
    },
    {
      "cell_type": "code",
      "metadata": {
        "id": "gz9mP1ayKERO"
      },
      "source": [
        "top9=top9[~(top9['main_sector'].isnull())]"
      ],
      "execution_count": null,
      "outputs": []
    },
    {
      "cell_type": "code",
      "metadata": {
        "id": "9jT6E2SZKERQ",
        "colab": {
          "base_uri": "https://localhost:8080/"
        },
        "outputId": "00a8035b-2458-4815-fd87-3a2575e1341a"
      },
      "source": [
        "len(top9[top9['main_sector'].isnull()])"
      ],
      "execution_count": null,
      "outputs": [
        {
          "output_type": "execute_result",
          "data": {
            "text/plain": [
              "0"
            ]
          },
          "metadata": {
            "tags": []
          },
          "execution_count": 211
        }
      ]
    },
    {
      "cell_type": "code",
      "metadata": {
        "id": "faDp-c_QKERS",
        "colab": {
          "base_uri": "https://localhost:8080/"
        },
        "outputId": "dfb7144d-ea50-41cf-998c-4a8d64fb1b08"
      },
      "source": [
        "top9.head()"
      ],
      "execution_count": null,
      "outputs": [
        {
          "output_type": "execute_result",
          "data": {
            "text/html": [
              "<div>\n",
              "<style scoped>\n",
              "    .dataframe tbody tr th:only-of-type {\n",
              "        vertical-align: middle;\n",
              "    }\n",
              "\n",
              "    .dataframe tbody tr th {\n",
              "        vertical-align: top;\n",
              "    }\n",
              "\n",
              "    .dataframe thead th {\n",
              "        text-align: right;\n",
              "    }\n",
              "</style>\n",
              "<table border=\"1\" class=\"dataframe\">\n",
              "  <thead>\n",
              "    <tr style=\"text-align: right;\">\n",
              "      <th></th>\n",
              "      <th>company_permalink</th>\n",
              "      <th>funding_round_permalink</th>\n",
              "      <th>funding_round_type</th>\n",
              "      <th>funded_at</th>\n",
              "      <th>raised_amount_usd</th>\n",
              "      <th>permalink</th>\n",
              "      <th>name</th>\n",
              "      <th>category_list_x</th>\n",
              "      <th>status</th>\n",
              "      <th>country_code</th>\n",
              "      <th>state_code</th>\n",
              "      <th>region</th>\n",
              "      <th>city</th>\n",
              "      <th>primary_sector</th>\n",
              "      <th>main_sector</th>\n",
              "    </tr>\n",
              "  </thead>\n",
              "  <tbody>\n",
              "    <tr>\n",
              "      <th>0</th>\n",
              "      <td>/organization/-fame</td>\n",
              "      <td>/funding-round/9a01d05418af9f794eebff7ace91f638</td>\n",
              "      <td>venture</td>\n",
              "      <td>5/1/2015</td>\n",
              "      <td>10000000.0</td>\n",
              "      <td>/organization/-fame</td>\n",
              "      <td>#fame</td>\n",
              "      <td>Media</td>\n",
              "      <td>operating</td>\n",
              "      <td>IND</td>\n",
              "      <td>16</td>\n",
              "      <td>Mumbai</td>\n",
              "      <td>Mumbai</td>\n",
              "      <td>Media</td>\n",
              "      <td>Entertainment</td>\n",
              "    </tr>\n",
              "    <tr>\n",
              "      <th>1</th>\n",
              "      <td>/organization/0-6-com</td>\n",
              "      <td>/funding-round/5727accaeaa57461bd22a9bdd945382d</td>\n",
              "      <td>venture</td>\n",
              "      <td>19/3/2008</td>\n",
              "      <td>2000000.0</td>\n",
              "      <td>/organization/0-6-com</td>\n",
              "      <td>0-6.com</td>\n",
              "      <td>Curated Web</td>\n",
              "      <td>operating</td>\n",
              "      <td>CHN</td>\n",
              "      <td>22</td>\n",
              "      <td>Beijing</td>\n",
              "      <td>Beijing</td>\n",
              "      <td>Curated Web</td>\n",
              "      <td>News, Search and Messaging</td>\n",
              "    </tr>\n",
              "    <tr>\n",
              "      <th>2</th>\n",
              "      <td>/organization/0ndine-biomedical-inc</td>\n",
              "      <td>/funding-round/954b9499724b946ad8c396a57a5f3b72</td>\n",
              "      <td>venture</td>\n",
              "      <td>21/12/2009</td>\n",
              "      <td>719491.0</td>\n",
              "      <td>/organization/0ndine-biomedical-inc</td>\n",
              "      <td>Ondine Biomedical Inc.</td>\n",
              "      <td>Biotechnology</td>\n",
              "      <td>operating</td>\n",
              "      <td>CAN</td>\n",
              "      <td>BC</td>\n",
              "      <td>Vancouver</td>\n",
              "      <td>Vancouver</td>\n",
              "      <td>Biotechnology</td>\n",
              "      <td>Cleantech / Semiconductors</td>\n",
              "    </tr>\n",
              "    <tr>\n",
              "      <th>3</th>\n",
              "      <td>/organization/0xdata</td>\n",
              "      <td>/funding-round/3bb2ee4a2d89251a10aaa735b1180e44</td>\n",
              "      <td>venture</td>\n",
              "      <td>9/11/2015</td>\n",
              "      <td>20000000.0</td>\n",
              "      <td>/organization/0xdata</td>\n",
              "      <td>H2O.ai</td>\n",
              "      <td>Analytics</td>\n",
              "      <td>operating</td>\n",
              "      <td>USA</td>\n",
              "      <td>CA</td>\n",
              "      <td>SF Bay Area</td>\n",
              "      <td>Mountain View</td>\n",
              "      <td>Analytics</td>\n",
              "      <td>Social, Finance, Analytics, Advertising</td>\n",
              "    </tr>\n",
              "    <tr>\n",
              "      <th>4</th>\n",
              "      <td>/organization/0xdata</td>\n",
              "      <td>/funding-round/ae2a174c06517c2394aed45006322a7e</td>\n",
              "      <td>venture</td>\n",
              "      <td>3/1/2013</td>\n",
              "      <td>1700000.0</td>\n",
              "      <td>/organization/0xdata</td>\n",
              "      <td>H2O.ai</td>\n",
              "      <td>Analytics</td>\n",
              "      <td>operating</td>\n",
              "      <td>USA</td>\n",
              "      <td>CA</td>\n",
              "      <td>SF Bay Area</td>\n",
              "      <td>Mountain View</td>\n",
              "      <td>Analytics</td>\n",
              "      <td>Social, Finance, Analytics, Advertising</td>\n",
              "    </tr>\n",
              "  </tbody>\n",
              "</table>\n",
              "</div>"
            ],
            "text/plain": [
              "                     company_permalink  ...                              main_sector\n",
              "0                  /organization/-fame  ...                            Entertainment\n",
              "1                /organization/0-6-com  ...               News, Search and Messaging\n",
              "2  /organization/0ndine-biomedical-inc  ...               Cleantech / Semiconductors\n",
              "3                 /organization/0xdata  ...  Social, Finance, Analytics, Advertising\n",
              "4                 /organization/0xdata  ...  Social, Finance, Analytics, Advertising\n",
              "\n",
              "[5 rows x 15 columns]"
            ]
          },
          "metadata": {
            "tags": []
          },
          "execution_count": 212
        }
      ]
    },
    {
      "cell_type": "markdown",
      "metadata": {
        "id": "MNlvjjW1KERV"
      },
      "source": [
        "<br>Creating three separate data frames D1, D2 and D3 for each of the top three countries (USA, GBR, IND) containing the observations of funding type venture falling within the 5-15 million USD range."
      ]
    },
    {
      "cell_type": "markdown",
      "metadata": {
        "id": "bxeLoBnAKERV"
      },
      "source": [
        "# Sector Analysis - USA"
      ]
    },
    {
      "cell_type": "code",
      "metadata": {
        "id": "hrRra52zKERW"
      },
      "source": [
        "D1=top9[top9['country_code']=='USA']"
      ],
      "execution_count": null,
      "outputs": []
    },
    {
      "cell_type": "code",
      "metadata": {
        "id": "hz3AJQ7wKERa"
      },
      "source": [
        "D1 = D1[(D1['raised_amount_usd'] >= 5000000) & (D1['raised_amount_usd'] <= 15000000)]"
      ],
      "execution_count": null,
      "outputs": []
    },
    {
      "cell_type": "markdown",
      "metadata": {
        "id": "tD_MV0FGKERc"
      },
      "source": [
        "Total amount raised in USA"
      ]
    },
    {
      "cell_type": "code",
      "metadata": {
        "id": "yqdyPkTZKERc",
        "colab": {
          "base_uri": "https://localhost:8080/"
        },
        "outputId": "6d71fe50-607f-4c59-8fec-2c44775ae753"
      },
      "source": [
        "D1.raised_amount_usd.sum()"
      ],
      "execution_count": null,
      "outputs": [
        {
          "output_type": "execute_result",
          "data": {
            "text/plain": [
              "107757097294.0"
            ]
          },
          "metadata": {
            "tags": []
          },
          "execution_count": 215
        }
      ]
    },
    {
      "cell_type": "code",
      "metadata": {
        "id": "N_feL-z2KERf",
        "colab": {
          "base_uri": "https://localhost:8080/"
        },
        "outputId": "5b882797-5f88-4178-cb30-4ef21f737528"
      },
      "source": [
        "D1.raised_amount_usd.count()"
      ],
      "execution_count": null,
      "outputs": [
        {
          "output_type": "execute_result",
          "data": {
            "text/plain": [
              "12063"
            ]
          },
          "metadata": {
            "tags": []
          },
          "execution_count": 216
        }
      ]
    },
    {
      "cell_type": "code",
      "metadata": {
        "id": "6o5n_Y4kKERh",
        "colab": {
          "base_uri": "https://localhost:8080/"
        },
        "outputId": "a2ce5da4-4e69-4904-ab8f-d00c64483cb2"
      },
      "source": [
        "D1.shape"
      ],
      "execution_count": null,
      "outputs": [
        {
          "output_type": "execute_result",
          "data": {
            "text/plain": [
              "(12063, 15)"
            ]
          },
          "metadata": {
            "tags": []
          },
          "execution_count": 217
        }
      ]
    },
    {
      "cell_type": "markdown",
      "metadata": {
        "id": "mIJMUD7IKERk"
      },
      "source": [
        "Finding the top sectors with the highest number of investments in USA."
      ]
    },
    {
      "cell_type": "code",
      "metadata": {
        "id": "yk2yY-XuKERm"
      },
      "source": [
        "D1_by_sector=D1.groupby('main_sector')"
      ],
      "execution_count": null,
      "outputs": []
    },
    {
      "cell_type": "code",
      "metadata": {
        "id": "hUfhZo0hKERr",
        "colab": {
          "base_uri": "https://localhost:8080/"
        },
        "outputId": "4b68091e-bb22-4933-b16c-04cc2c36d26f"
      },
      "source": [
        "D1_by_sector['raised_amount_usd'].count().sort_values(ascending = False).head()\n"
      ],
      "execution_count": null,
      "outputs": [
        {
          "output_type": "execute_result",
          "data": {
            "text/plain": [
              "main_sector\n",
              "Others                                     2950\n",
              "Social, Finance, Analytics, Advertising    2714\n",
              "Cleantech / Semiconductors                 2350\n",
              "News, Search and Messaging                 1583\n",
              "Health                                      909\n",
              "Name: raised_amount_usd, dtype: int64"
            ]
          },
          "metadata": {
            "tags": []
          },
          "execution_count": 219
        }
      ]
    },
    {
      "cell_type": "code",
      "metadata": {
        "id": "-sEVUSq2KERu",
        "colab": {
          "base_uri": "https://localhost:8080/"
        },
        "outputId": "a9a60b75-752b-4b45-a8b0-5aedf17de89f"
      },
      "source": [
        "D1_by_sector['raised_amount_usd'].sum().sort_values(ascending = False).head()"
      ],
      "execution_count": null,
      "outputs": [
        {
          "output_type": "execute_result",
          "data": {
            "text/plain": [
              "main_sector\n",
              "Others                                     2.632101e+10\n",
              "Social, Finance, Analytics, Advertising    2.380738e+10\n",
              "Cleantech / Semiconductors                 2.163343e+10\n",
              "News, Search and Messaging                 1.397157e+10\n",
              "Health                                     8.211859e+09\n",
              "Name: raised_amount_usd, dtype: float64"
            ]
          },
          "metadata": {
            "tags": []
          },
          "execution_count": 220
        }
      ]
    },
    {
      "cell_type": "markdown",
      "metadata": {
        "id": "ba-01PY4KERx"
      },
      "source": [
        "Finding the highest invested company among the 1st Top sectors of the country."
      ]
    },
    {
      "cell_type": "code",
      "metadata": {
        "id": "N2p5IljuKERx",
        "colab": {
          "base_uri": "https://localhost:8080/"
        },
        "outputId": "a1327234-f522-429a-e486-fde85f0d0197"
      },
      "source": [
        "D1[D1['main_sector']=='Others'].groupby(['main_sector','permalink']).raised_amount_usd.sum().sort_values(ascending=False).head()"
      ],
      "execution_count": null,
      "outputs": [
        {
          "output_type": "execute_result",
          "data": {
            "text/plain": [
              "main_sector  permalink                        \n",
              "Others       /organization/virtustream            64300000.0\n",
              "             /organization/capella                54968051.0\n",
              "             /organization/airtight-networks      54201907.0\n",
              "             /organization/decarta                52100000.0\n",
              "             /organization/black-duck-software    51000000.0\n",
              "Name: raised_amount_usd, dtype: float64"
            ]
          },
          "metadata": {
            "tags": []
          },
          "execution_count": 221
        }
      ]
    },
    {
      "cell_type": "markdown",
      "metadata": {
        "id": "KC_HWIRDKERz"
      },
      "source": [
        "Finding the highest invested company among the 2nd Top sectors of the country."
      ]
    },
    {
      "cell_type": "code",
      "metadata": {
        "id": "YNtJr5U7KERz",
        "colab": {
          "base_uri": "https://localhost:8080/"
        },
        "outputId": "3a8d3c92-d6de-485f-ddab-80a830c191f8"
      },
      "source": [
        "D1[D1['main_sector']=='Social, Finance, Analytics, Advertising'].groupby(['main_sector','permalink']).raised_amount_usd.sum().sort_values(ascending=False).head()"
      ],
      "execution_count": null,
      "outputs": [
        {
          "output_type": "execute_result",
          "data": {
            "text/plain": [
              "main_sector                              permalink                \n",
              "Social, Finance, Analytics, Advertising  /organization/shotspotter    67933006.0\n",
              "                                         /organization/demandbase     63000000.0\n",
              "                                         /organization/intacct        61800000.0\n",
              "                                         /organization/netbase        60600000.0\n",
              "                                         /organization/lotame         59700000.0\n",
              "Name: raised_amount_usd, dtype: float64"
            ]
          },
          "metadata": {
            "tags": []
          },
          "execution_count": 222
        }
      ]
    },
    {
      "cell_type": "markdown",
      "metadata": {
        "id": "VN0l0BObKER1"
      },
      "source": [
        "#### Sector Analysis - GBR (United Kingdom)"
      ]
    },
    {
      "cell_type": "markdown",
      "metadata": {
        "id": "kVl1wjc2KER1"
      },
      "source": [
        "Creating Data frame D2 for country GBR"
      ]
    },
    {
      "cell_type": "code",
      "metadata": {
        "id": "2pRntGROKER2"
      },
      "source": [
        "D2=top9[top9['country_code']=='GBR']\n",
        "D2 = D2[(D2['raised_amount_usd'] >= 5000000) & (D2['raised_amount_usd'] <= 15000000)]\n",
        "D2_by_sector=D2.groupby('main_sector')"
      ],
      "execution_count": null,
      "outputs": []
    },
    {
      "cell_type": "markdown",
      "metadata": {
        "id": "OgNIG42kKER8"
      },
      "source": [
        "Finding the top sectors with the highest number of investments in GBR."
      ]
    },
    {
      "cell_type": "code",
      "metadata": {
        "id": "3yDsDL9QKER9",
        "colab": {
          "base_uri": "https://localhost:8080/"
        },
        "outputId": "07c6c1b9-2274-4b7b-cc7c-81397717cead"
      },
      "source": [
        "D2_by_sector['raised_amount_usd'].count().sort_values(ascending = False).head()"
      ],
      "execution_count": null,
      "outputs": [
        {
          "output_type": "execute_result",
          "data": {
            "text/plain": [
              "main_sector\n",
              "Others                                     147\n",
              "Social, Finance, Analytics, Advertising    133\n",
              "Cleantech / Semiconductors                 130\n",
              "News, Search and Messaging                  73\n",
              "Entertainment                               56\n",
              "Name: raised_amount_usd, dtype: int64"
            ]
          },
          "metadata": {
            "tags": []
          },
          "execution_count": 224
        }
      ]
    },
    {
      "cell_type": "code",
      "metadata": {
        "id": "1Ikp3IIpKESA",
        "colab": {
          "base_uri": "https://localhost:8080/"
        },
        "outputId": "cf9d1964-fd63-4969-d611-397c132a0684"
      },
      "source": [
        "D2_by_sector['raised_amount_usd'].sum().sort_values(ascending = False)"
      ],
      "execution_count": null,
      "outputs": [
        {
          "output_type": "execute_result",
          "data": {
            "text/plain": [
              "main_sector\n",
              "Others                                     1.283624e+09\n",
              "Cleantech / Semiconductors                 1.163990e+09\n",
              "Social, Finance, Analytics, Advertising    1.089404e+09\n",
              "News, Search and Messaging                 6.157462e+08\n",
              "Entertainment                              4.827847e+08\n",
              "Manufacturing                              3.619403e+08\n",
              "Health                                     2.145375e+08\n",
              "Automotive & Sports                        1.670516e+08\n",
              "Name: raised_amount_usd, dtype: float64"
            ]
          },
          "metadata": {
            "tags": []
          },
          "execution_count": 225
        }
      ]
    },
    {
      "cell_type": "markdown",
      "metadata": {
        "id": "f7sPx8rmKESC"
      },
      "source": [
        "Total amount raised in GBR"
      ]
    },
    {
      "cell_type": "code",
      "metadata": {
        "id": "yl005-v7KESD",
        "colab": {
          "base_uri": "https://localhost:8080/"
        },
        "outputId": "9964ad0a-c6e4-4eb7-e154-b5383c5b7a66"
      },
      "source": [
        "D2.raised_amount_usd.sum()"
      ],
      "execution_count": null,
      "outputs": [
        {
          "output_type": "execute_result",
          "data": {
            "text/plain": [
              "5379078691.0"
            ]
          },
          "metadata": {
            "tags": []
          },
          "execution_count": 226
        }
      ]
    },
    {
      "cell_type": "code",
      "metadata": {
        "id": "_TXsPlrmKESE",
        "colab": {
          "base_uri": "https://localhost:8080/"
        },
        "outputId": "ede51689-5dfb-46ba-c81f-02f375dcdb93"
      },
      "source": [
        "D2.raised_amount_usd.count()"
      ],
      "execution_count": null,
      "outputs": [
        {
          "output_type": "execute_result",
          "data": {
            "text/plain": [
              "621"
            ]
          },
          "metadata": {
            "tags": []
          },
          "execution_count": 227
        }
      ]
    },
    {
      "cell_type": "code",
      "metadata": {
        "id": "f0V-qsFSKESG",
        "colab": {
          "base_uri": "https://localhost:8080/"
        },
        "outputId": "6c2d6899-0e75-4a9f-f964-36d2877792ce"
      },
      "source": [
        "D2.shape"
      ],
      "execution_count": null,
      "outputs": [
        {
          "output_type": "execute_result",
          "data": {
            "text/plain": [
              "(621, 15)"
            ]
          },
          "metadata": {
            "tags": []
          },
          "execution_count": 228
        }
      ]
    },
    {
      "cell_type": "markdown",
      "metadata": {
        "id": "KmfWftsSKESJ"
      },
      "source": [
        "Finding the highest invested company among the 1st Top sectors of the country."
      ]
    },
    {
      "cell_type": "code",
      "metadata": {
        "id": "-TBZfumEKESK",
        "colab": {
          "base_uri": "https://localhost:8080/"
        },
        "outputId": "cb2f8ae3-9500-4c33-a2d1-6768b31e9a4c"
      },
      "source": [
        "D2[D2['main_sector']=='Others'].groupby(['main_sector','permalink']).raised_amount_usd.sum().sort_values(ascending=False).head()"
      ],
      "execution_count": null,
      "outputs": [
        {
          "output_type": "execute_result",
          "data": {
            "text/plain": [
              "main_sector  permalink                            \n",
              "Others       /organization/electric-cloud             37000000.0\n",
              "             /organization/sensage                    36250000.0\n",
              "             /organization/enigmatic                  32500000.0\n",
              "             /organization/silverrail-technologies    29000000.0\n",
              "             /organization/opencloud                  27972766.0\n",
              "Name: raised_amount_usd, dtype: float64"
            ]
          },
          "metadata": {
            "tags": []
          },
          "execution_count": 229
        }
      ]
    },
    {
      "cell_type": "markdown",
      "metadata": {
        "id": "CsU1FS3CKESM"
      },
      "source": [
        "Finding the highest invested company among the 2nd Top sectors of the country."
      ]
    },
    {
      "cell_type": "code",
      "metadata": {
        "id": "SHBrEoTGKESM",
        "colab": {
          "base_uri": "https://localhost:8080/"
        },
        "outputId": "76ab6f64-5b60-40c5-d343-460d891ad6b2"
      },
      "source": [
        "D2[D2['main_sector']=='Social, Finance, Analytics, Advertising'].groupby(['main_sector','permalink']).raised_amount_usd.sum().sort_values(ascending=False).head()"
      ],
      "execution_count": null,
      "outputs": [
        {
          "output_type": "execute_result",
          "data": {
            "text/plain": [
              "main_sector                              permalink                          \n",
              "Social, Finance, Analytics, Advertising  /organization/celltick-technologies    37500000.0\n",
              "                                         /organization/mythings                 34000000.0\n",
              "                                         /organization/zopa                     32900000.0\n",
              "                                         /organization/imagini                  28550000.0\n",
              "                                         /organization/marketinvoice            25553007.0\n",
              "Name: raised_amount_usd, dtype: float64"
            ]
          },
          "metadata": {
            "tags": []
          },
          "execution_count": 230
        }
      ]
    },
    {
      "cell_type": "markdown",
      "metadata": {
        "id": "3bqrWTxqKESO"
      },
      "source": [
        "#### Sector Analysis -  India"
      ]
    },
    {
      "cell_type": "markdown",
      "metadata": {
        "id": "ZPM_bSQlKESO"
      },
      "source": [
        "Creating Data frame D3 for country IND"
      ]
    },
    {
      "cell_type": "code",
      "metadata": {
        "id": "3bCPSJuJKESP"
      },
      "source": [
        "D3=top9[top9['country_code']=='IND']\n",
        "D3 = D3[(D3['raised_amount_usd'] >= 5000000) & (D3['raised_amount_usd'] <= 15000000)]\n",
        "D3_by_sector=D3.groupby('main_sector')"
      ],
      "execution_count": null,
      "outputs": []
    },
    {
      "cell_type": "markdown",
      "metadata": {
        "id": "VN77GTG7KESQ"
      },
      "source": [
        "Finding the top sectors with the highest number of investments in IND."
      ]
    },
    {
      "cell_type": "code",
      "metadata": {
        "id": "S2fv6emrKESR",
        "colab": {
          "base_uri": "https://localhost:8080/"
        },
        "outputId": "9fb12249-a329-4948-b9de-8ebf2c907007"
      },
      "source": [
        "D3_by_sector['raised_amount_usd'].count().sort_values(ascending = False)"
      ],
      "execution_count": null,
      "outputs": [
        {
          "output_type": "execute_result",
          "data": {
            "text/plain": [
              "main_sector\n",
              "Others                                     110\n",
              "Social, Finance, Analytics, Advertising     60\n",
              "News, Search and Messaging                  52\n",
              "Entertainment                               33\n",
              "Manufacturing                               21\n",
              "Cleantech / Semiconductors                  20\n",
              "Health                                      19\n",
              "Automotive & Sports                         13\n",
              "Name: raised_amount_usd, dtype: int64"
            ]
          },
          "metadata": {
            "tags": []
          },
          "execution_count": 232
        }
      ]
    },
    {
      "cell_type": "code",
      "metadata": {
        "id": "_c4uVCqAKEST",
        "colab": {
          "base_uri": "https://localhost:8080/"
        },
        "outputId": "0f97015a-1a09-47fd-9ae1-bbcffa63c889"
      },
      "source": [
        "D3_by_sector['raised_amount_usd'].sum().sort_values(ascending = False)"
      ],
      "execution_count": null,
      "outputs": [
        {
          "output_type": "execute_result",
          "data": {
            "text/plain": [
              "main_sector\n",
              "Others                                     1.013410e+09\n",
              "Social, Finance, Analytics, Advertising    5.505496e+08\n",
              "News, Search and Messaging                 4.338345e+08\n",
              "Entertainment                              2.808300e+08\n",
              "Manufacturing                              2.009000e+08\n",
              "Health                                     1.677400e+08\n",
              "Cleantech / Semiconductors                 1.653800e+08\n",
              "Automotive & Sports                        1.369000e+08\n",
              "Name: raised_amount_usd, dtype: float64"
            ]
          },
          "metadata": {
            "tags": []
          },
          "execution_count": 233
        }
      ]
    },
    {
      "cell_type": "code",
      "metadata": {
        "id": "rg_KPuCDKESV",
        "colab": {
          "base_uri": "https://localhost:8080/"
        },
        "outputId": "24f5edd2-fbee-4b2f-81b7-a45876263608"
      },
      "source": [
        "D3.shape"
      ],
      "execution_count": null,
      "outputs": [
        {
          "output_type": "execute_result",
          "data": {
            "text/plain": [
              "(328, 15)"
            ]
          },
          "metadata": {
            "tags": []
          },
          "execution_count": 234
        }
      ]
    },
    {
      "cell_type": "markdown",
      "metadata": {
        "id": "9wYqvqanKESX"
      },
      "source": [
        "Total amount raised in IND"
      ]
    },
    {
      "cell_type": "code",
      "metadata": {
        "id": "tGOOeeugKESY",
        "colab": {
          "base_uri": "https://localhost:8080/"
        },
        "outputId": "fbc8ecf4-5772-4029-f088-fdab1305be1b"
      },
      "source": [
        "D3.raised_amount_usd.sum()"
      ],
      "execution_count": null,
      "outputs": [
        {
          "output_type": "execute_result",
          "data": {
            "text/plain": [
              "2949543602.0"
            ]
          },
          "metadata": {
            "tags": []
          },
          "execution_count": 235
        }
      ]
    },
    {
      "cell_type": "code",
      "metadata": {
        "id": "2DuzgukRKESa",
        "colab": {
          "base_uri": "https://localhost:8080/"
        },
        "outputId": "f24c6a05-0662-43a1-d2bd-238fde2005ef"
      },
      "source": [
        "D3.raised_amount_usd.count()"
      ],
      "execution_count": null,
      "outputs": [
        {
          "output_type": "execute_result",
          "data": {
            "text/plain": [
              "328"
            ]
          },
          "metadata": {
            "tags": []
          },
          "execution_count": 236
        }
      ]
    },
    {
      "cell_type": "markdown",
      "metadata": {
        "id": "v9nMW8fzKESd"
      },
      "source": [
        "Finding the highest invested company among the 1st Top sectors of the country."
      ]
    },
    {
      "cell_type": "code",
      "metadata": {
        "id": "BuN-ElQ7KESe",
        "colab": {
          "base_uri": "https://localhost:8080/"
        },
        "outputId": "7734130a-ddd2-400a-fa83-1bded375a92b"
      },
      "source": [
        "D3[D3['main_sector']=='Others'].groupby(['main_sector','permalink']).raised_amount_usd.sum().sort_values(ascending=False).head()"
      ],
      "execution_count": null,
      "outputs": [
        {
          "output_type": "execute_result",
          "data": {
            "text/plain": [
              "main_sector  permalink                     \n",
              "Others       /organization/firstcry-com        39000000.0\n",
              "             /organization/myntra              38000000.0\n",
              "             /organization/commonfloor         32900000.0\n",
              "             /organization/pepperfry-com       28000000.0\n",
              "             /organization/itzcash-card-ltd    25000000.0\n",
              "Name: raised_amount_usd, dtype: float64"
            ]
          },
          "metadata": {
            "tags": []
          },
          "execution_count": 237
        }
      ]
    },
    {
      "cell_type": "markdown",
      "metadata": {
        "id": "X7tfQS_4KESf"
      },
      "source": [
        "Finding the highest invested company among the 2nd Top sectors of the country."
      ]
    },
    {
      "cell_type": "code",
      "metadata": {
        "id": "SM8FmvdxKESf",
        "colab": {
          "base_uri": "https://localhost:8080/"
        },
        "outputId": "8d9a3806-a590-4f1b-8ef2-b981f697fc12"
      },
      "source": [
        "D3[D3['main_sector']=='Social, Finance, Analytics, Advertising'].groupby(['main_sector','permalink']).raised_amount_usd.sum().sort_values(ascending=False).head()"
      ],
      "execution_count": null,
      "outputs": [
        {
          "output_type": "execute_result",
          "data": {
            "text/plain": [
              "main_sector                              permalink                               \n",
              "Social, Finance, Analytics, Advertising  /organization/manthan-systems               50700000.0\n",
              "                                         /organization/komli-media                   28000000.0\n",
              "                                         /organization/shopclues-com                 25000000.0\n",
              "                                         /organization/intarvo                       21900000.0\n",
              "                                         /organization/grameen-financial-services    21556050.0\n",
              "Name: raised_amount_usd, dtype: float64"
            ]
          },
          "metadata": {
            "tags": []
          },
          "execution_count": 238
        }
      ]
    },
    {
      "cell_type": "markdown",
      "metadata": {
        "id": "6Ldv0_zAKESh"
      },
      "source": [
        "### Checkpoint 6: Plots"
      ]
    },
    {
      "cell_type": "code",
      "metadata": {
        "id": "48-x9sKJKESi",
        "colab": {
          "base_uri": "https://localhost:8080/"
        },
        "outputId": "678c587d-82a6-4e95-8577-f1be153f4fed"
      },
      "source": [
        "# bar plot with default statistic=mean\n",
        "plt.figure(figsize=(10,5))\n",
        "g=sns.barplot(x='funding_round_type', y='raised_amount_usd', data=master_frame)\n",
        "#g.set_ylim(0, 20000000)\n",
        "#g.set_yscale('log')\n",
        "g.set(xlabel='Funding Type', ylabel='Raised Amount   ( 1 Unit = 10M USD)')\n",
        "g.set_title('Funding Type Analysis',fontsize =18)\n",
        "\n",
        "plt.axhline(5000000, color='green')\n",
        "plt.axhline(15000000, color='red')\n",
        "\n",
        "\n",
        "plt.show()"
      ],
      "execution_count": null,
      "outputs": [
        {
          "output_type": "display_data",
          "data": {
            "image/png": "[encoded data removed]",
            "text/plain": [
              "<Figure size 720x360 with 1 Axes>"
            ]
          },
          "metadata": {
            "tags": []
          }
        }
      ]
    },
    {
      "cell_type": "code",
      "metadata": {
        "id": "o4r-VIzYKESj",
        "colab": {
          "base_uri": "https://localhost:8080/"
        },
        "outputId": "1e41ab84-068a-424d-a18e-77b6700523d7"
      },
      "source": [
        "# bar plot with default statistic=mean\n",
        "plt.figure(figsize=(10,5))\n",
        "c=sns.barplot(x='country_code', y='raised_amount_usd', data=top9, estimator=np.sum,color=(0.2, 0.4, 0.7, 0.6))\n",
        "c.set_yscale('log')\n",
        "c.set(xlabel='Funding Type', ylabel='Raised Amount')\n",
        "c.set_title('Country Analysis',fontsize =18)\n",
        "plt.show()"
      ],
      "execution_count": null,
      "outputs": [
        {
          "output_type": "display_data",
          "data": {
            "image/png": "[encoded data removed]",
            "text/plain": [
              "<Figure size 720x360 with 1 Axes>"
            ]
          },
          "metadata": {
            "tags": []
          }
        }
      ]
    },
    {
      "cell_type": "markdown",
      "metadata": {
        "id": "CpGzVm7NKESk"
      },
      "source": [
        "A plot showing the number of investments in the top 3 sectors of the top 3 countries on one chart (for the chosen investment type i.e venture)"
      ]
    },
    {
      "cell_type": "markdown",
      "metadata": {
        "id": "H-iFQ-LZKESl"
      },
      "source": [
        "For this plot creating a master dataframe with all the data for the top 3 sectors of the top 3 countries."
      ]
    },
    {
      "cell_type": "code",
      "metadata": {
        "id": "KEnZSD6dKESl"
      },
      "source": [
        "master_D=D1[D1['main_sector'].isin(['Others','Social, Finance, Analytics, Advertising','Cleantech / Semiconductors'])]"
      ],
      "execution_count": null,
      "outputs": []
    },
    {
      "cell_type": "code",
      "metadata": {
        "id": "jICs1TMIKESn",
        "colab": {
          "base_uri": "https://localhost:8080/"
        },
        "outputId": "3c5ea5de-77ba-4800-a3ad-a7083c5332f0"
      },
      "source": [
        "master_D.shape"
      ],
      "execution_count": null,
      "outputs": [
        {
          "output_type": "execute_result",
          "data": {
            "text/plain": [
              "(8014, 15)"
            ]
          },
          "metadata": {
            "tags": []
          },
          "execution_count": 242
        }
      ]
    },
    {
      "cell_type": "code",
      "metadata": {
        "id": "2C9jQ9sIKESp"
      },
      "source": [
        "master_D=master_D.append(D2[D2['main_sector'].isin(['Others','Social, Finance, Analytics, Advertising','Cleantech / Semiconductors'])], ignore_index=True)"
      ],
      "execution_count": null,
      "outputs": []
    },
    {
      "cell_type": "code",
      "metadata": {
        "id": "IsEm_9WBKESq",
        "colab": {
          "base_uri": "https://localhost:8080/"
        },
        "outputId": "83abe982-2213-4b07-9e98-00a97b817aa5"
      },
      "source": [
        "master_D.shape\n"
      ],
      "execution_count": null,
      "outputs": [
        {
          "output_type": "execute_result",
          "data": {
            "text/plain": [
              "(8424, 15)"
            ]
          },
          "metadata": {
            "tags": []
          },
          "execution_count": 244
        }
      ]
    },
    {
      "cell_type": "code",
      "metadata": {
        "id": "9OhV4to9KESr"
      },
      "source": [
        "master_D=master_D.append(D3[D3['main_sector'].isin(['Others','Social, Finance, Analytics, Advertising','News, Search and Messaging'])], ignore_index=True)"
      ],
      "execution_count": null,
      "outputs": []
    },
    {
      "cell_type": "code",
      "metadata": {
        "id": "az3GVxctKESt",
        "colab": {
          "base_uri": "https://localhost:8080/"
        },
        "outputId": "c7d283a8-48ee-4a55-df67-7f2504ef395f"
      },
      "source": [
        "master_D.shape"
      ],
      "execution_count": null,
      "outputs": [
        {
          "output_type": "execute_result",
          "data": {
            "text/plain": [
              "(8646, 15)"
            ]
          },
          "metadata": {
            "tags": []
          },
          "execution_count": 246
        }
      ]
    },
    {
      "cell_type": "markdown",
      "metadata": {
        "id": "6yQeHR2sKESx"
      },
      "source": [
        "Using the master_D dataframe to plot the sector wise investment count of the top 3 sectors of the top3 countries."
      ]
    },
    {
      "cell_type": "code",
      "metadata": {
        "scrolled": true,
        "id": "rFUJdDj3KESy",
        "colab": {
          "base_uri": "https://localhost:8080/"
        },
        "outputId": "2e864632-92a9-4ac4-cc8c-99ed3029d4fb"
      },
      "source": [
        "# set figure size for larger figure\n",
        "plt.figure(num=None, figsize=(12, 8), dpi=80, facecolor='w', edgecolor='k')\n",
        "\n",
        "# specify hue=\"categorical_variable\"\n",
        "s=sns.barplot(x='country_code', y='raised_amount_usd', hue=\"main_sector\", data=master_D,estimator=lambda x: len(x))\n",
        "s.set(xlabel='Country', ylabel='Number of Investments')\n",
        "s.set_title('Investments in top3 sectors of top 3 countries',fontsize =18)\n",
        "plt.show()\n"
      ],
      "execution_count": null,
      "outputs": [
        {
          "output_type": "display_data",
          "data": {
            "image/png": "[encoded data removed]",
            "text/plain": [
              "<Figure size 960x640 with 1 Axes>"
            ]
          },
          "metadata": {
            "tags": []
          }
        }
      ]
    }
  ]
}